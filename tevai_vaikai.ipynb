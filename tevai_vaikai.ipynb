{
 "cells": [
  {
   "cell_type": "code",
   "execution_count": 1,
   "metadata": {},
   "outputs": [],
   "source": [
    "from sqlalchemy.orm import sessionmaker\n",
    "from modelis import engine, Tevas, Vaikas\n",
    "\n",
    "session = sessionmaker(engine)()"
   ]
  },
  {
   "cell_type": "code",
   "execution_count": 2,
   "metadata": {},
   "outputs": [],
   "source": [
    "naujas_tevas = Tevas(vardas = \"Kietas\", pavarde = \"Vyras\")\n",
    "naujas_vaikas = Vaikas(\n",
    "    vardas = \"Sustras\",\n",
    "    pavarde = \"Vyras\",\n",
    "    tevas = naujas_tevas,\n",
    "    mokymo_istaiga = \"CodeAcademy\",\n",
    ")\n",
    "session.add(naujas_tevas)\n",
    "session.add(naujas_vaikas)\n",
    "session.commit()"
   ]
  },
  {
   "cell_type": "code",
   "execution_count": 2,
   "metadata": {},
   "outputs": [
    {
     "name": "stdout",
     "output_type": "stream",
     "text": [
      "[(1, Ivaikintas, Vainiūtė, (1, Darius, Vasionis)),\n",
      " (2, Emilija, Vainiūtė, (2, Kietas, Vyras)),\n",
      " (3, Sustras, Vyras, (2, Kietas, Vyras)),\n",
      " (4, Sustras, Vyras, (3, Kietas, Vyras)),\n",
      " (5, Sustras, Vyras, (4, Kietas, Vyras)),\n",
      " (6, Sustras, Vyras, (8, Kietas, Vyras))]\n"
     ]
    }
   ],
   "source": [
    "from pprint import pprint\n",
    "vaikai = session.query(Vaikas).all()\n",
    "pprint(vaikai)"
   ]
  },
  {
   "cell_type": "code",
   "execution_count": 4,
   "metadata": {},
   "outputs": [
    {
     "data": {
      "text/plain": [
       "[(1, Ivaikintas, Vainiūtė, (1, Darius, Vasionis)),\n",
       " (2, Emilija, Vainiūtė, (2, Kietas, Vyras)),\n",
       " (3, Sustras, Vyras, (2, Kietas, Vyras)),\n",
       " (4, Sustras, Vyras, (3, Kietas, Vyras)),\n",
       " (5, Sustras, Vyras, (4, Kietas, Vyras)),\n",
       " (6, Sustras, Vyras, (8, Kietas, Vyras))]"
      ]
     },
     "execution_count": 4,
     "metadata": {},
     "output_type": "execute_result"
    }
   ],
   "source": [
    "vaikai[1].tevas = session.query(Tevas).get(2)\n",
    "session.commit()\n",
    "vaikai"
   ]
  },
  {
   "cell_type": "code",
   "execution_count": 5,
   "metadata": {},
   "outputs": [
    {
     "data": {
      "text/plain": [
       "(2, Kietas, Vyras)"
      ]
     },
     "execution_count": 5,
     "metadata": {},
     "output_type": "execute_result"
    }
   ],
   "source": [
    "tevas = session.query(Tevas).get(2)\n",
    "tevas"
   ]
  },
  {
   "cell_type": "code",
   "execution_count": 6,
   "metadata": {},
   "outputs": [],
   "source": [
    "sunelis = Vaikas(vardas = \"Gudrus\", pavarde = \"Vaikis\")\n",
    "dukra = Vaikas(vardas = \"Smagi\", pavarde = \"Vaikyte\")\n",
    "tevas = Tevas(vardas = \"Rimtas\", pavarde = \"Vaikis\")\n",
    "session.add(tevas)\n",
    "session.commit()"
   ]
  },
  {
   "cell_type": "code",
   "execution_count": 21,
   "metadata": {},
   "outputs": [
    {
     "data": {
      "text/plain": [
       "[(2, Emilija, Vainiūtė, (2, Kietas, Vyras)),\n",
       " (3, Sustras, Vyras, (2, Kietas, Vyras))]"
      ]
     },
     "execution_count": 21,
     "metadata": {},
     "output_type": "execute_result"
    }
   ],
   "source": [
    "tevas = session.query(Tevas).get(2)\n",
    "tevas.vaikai\n"
   ]
  },
  {
   "cell_type": "code",
   "execution_count": 15,
   "metadata": {},
   "outputs": [
    {
     "name": "stdout",
     "output_type": "stream",
     "text": [
      "tevas:  (1, Darius, Vasionis) \n",
      "vaikai:\n",
      "[(1, Ivaikintas, Vainiūtė, (1, Darius, Vasionis))]\n",
      "tevas:  (2, Kietas, Vyras) \n",
      "vaikai:\n",
      "[(2, Emilija, Vainiūtė, (2, Kietas, Vyras)),\n",
      " (3, Sustras, Vyras, (2, Kietas, Vyras))]\n",
      "tevas:  (3, Kietas, Vyras) \n",
      "vaikai:\n",
      "[(4, Sustras, Vyras, (3, Kietas, Vyras))]\n",
      "tevas:  (4, Kietas, Vyras) \n",
      "vaikai:\n",
      "[(5, Sustras, Vyras, (4, Kietas, Vyras))]\n",
      "tevas:  (5, Rimtas, Vaikis) \n",
      "vaikai:\n",
      "[]\n",
      "tevas:  (6, Rimtas, Vaikis) \n",
      "vaikai:\n",
      "[]\n",
      "tevas:  (7, Rimtas, Vaikis) \n",
      "vaikai:\n",
      "[]\n",
      "tevas:  (8, Kietas, Vyras) \n",
      "vaikai:\n",
      "[(6, Sustras, Vyras, (8, Kietas, Vyras))]\n",
      "tevas:  (9, Rimtas, Vaikis) \n",
      "vaikai:\n",
      "[]\n"
     ]
    }
   ],
   "source": [
    "tevai = session.query(Tevas).all()\n",
    "for tevas in tevai:\n",
    "    print('tevas: ', tevas, \"\\nvaikai:\")\n",
    "    pprint(tevas.vaikai)"
   ]
  },
  {
   "cell_type": "code",
   "execution_count": 22,
   "metadata": {},
   "outputs": [
    {
     "data": {
      "text/plain": [
       "[(2, Emilija, Vainiūtė, (2, Kietas, Vyras)),\n",
       " (3, Gudri, Vyras, (2, Kietas, Vyras))]"
      ]
     },
     "execution_count": 22,
     "metadata": {},
     "output_type": "execute_result"
    }
   ],
   "source": [
    "tevas.vaikai[1].vardas = \"Gudri\"\n",
    "tevas.vaikai"
   ]
  },
  {
   "cell_type": "code",
   "execution_count": 24,
   "metadata": {},
   "outputs": [
    {
     "data": {
      "text/plain": [
       "(3, Gudri, Vyras, None)"
      ]
     },
     "execution_count": 24,
     "metadata": {},
     "output_type": "execute_result"
    }
   ],
   "source": [
    "pamestinukas = tevas.vaikai.pop()\n",
    "pamestinukas"
   ]
  },
  {
   "cell_type": "code",
   "execution_count": 25,
   "metadata": {},
   "outputs": [
    {
     "data": {
      "text/plain": [
       "[(1, Ivaikintas, Vainiūtė, (1, Darius, Vasionis)),\n",
       " (2, Emilija, Vainiūtė, (2, Kietas, Vyras)),\n",
       " (3, Gudri, Vyras, None),\n",
       " (4, Sustras, Vyras, (3, Kietas, Vyras)),\n",
       " (5, Sustras, Vyras, (4, Kietas, Vyras)),\n",
       " (6, Sustras, Vyras, (8, Kietas, Vyras))]"
      ]
     },
     "execution_count": 25,
     "metadata": {},
     "output_type": "execute_result"
    }
   ],
   "source": [
    "vaikai = session.query(Vaikas).all()\n",
    "vaikai"
   ]
  },
  {
   "cell_type": "code",
   "execution_count": 27,
   "metadata": {},
   "outputs": [
    {
     "data": {
      "text/plain": [
       "(2, Kietas, Vyras)"
      ]
     },
     "execution_count": 27,
     "metadata": {},
     "output_type": "execute_result"
    }
   ],
   "source": [
    "tevas.vaikai.remove(vaikai[1])\n",
    "tevas"
   ]
  },
  {
   "cell_type": "code",
   "execution_count": 29,
   "metadata": {},
   "outputs": [],
   "source": [
    "tevas.vaikai.append(vaikai[1])\n",
    "tevas.vaikai.append(vaikai[2])"
   ]
  },
  {
   "cell_type": "code",
   "execution_count": 30,
   "metadata": {},
   "outputs": [
    {
     "name": "stdout",
     "output_type": "stream",
     "text": [
      "[(2, Emilija, Vainiūtė, (2, Kietas, Vyras)),\n",
      " (3, Gudri, Vyras, (2, Kietas, Vyras))]\n"
     ]
    }
   ],
   "source": [
    "pprint(tevas.vaikai)"
   ]
  },
  {
   "cell_type": "code",
   "execution_count": 3,
   "metadata": {},
   "outputs": [],
   "source": [
    "from crud import update_object, delete_object"
   ]
  },
  {
   "cell_type": "code",
   "execution_count": 4,
   "metadata": {},
   "outputs": [
    {
     "data": {
      "text/plain": [
       "(2, Rimtesnis, Vyras)"
      ]
     },
     "execution_count": 4,
     "metadata": {},
     "output_type": "execute_result"
    }
   ],
   "source": [
    "update_object(Tevas, 2, vardas=\"Rimtesnis\")"
   ]
  },
  {
   "cell_type": "code",
   "execution_count": 15,
   "metadata": {},
   "outputs": [
    {
     "data": {
      "text/plain": [
       "[(2, Kietas, Vyras),\n",
       " (5, Rimtas, Vaikis),\n",
       " (6, Rimtas, Vaikis),\n",
       " (7, Rimtas, Vaikis),\n",
       " (9, Rimtas, Vaikis)]"
      ]
     },
     "execution_count": 15,
     "metadata": {},
     "output_type": "execute_result"
    }
   ],
   "source": [
    "tevelis = session.query(Tevas).filter(Tevas.vardas.ilike(\"R%\")).all()\n",
    "tevelis"
   ]
  }
 ],
 "metadata": {
  "kernelspec": {
   "display_name": "venv",
   "language": "python",
   "name": "python3"
  },
  "language_info": {
   "codemirror_mode": {
    "name": "ipython",
    "version": 3
   },
   "file_extension": ".py",
   "mimetype": "text/x-python",
   "name": "python",
   "nbconvert_exporter": "python",
   "pygments_lexer": "ipython3",
   "version": "3.10.6 (tags/v3.10.6:9c7b4bd, Aug  1 2022, 21:53:49) [MSC v.1932 64 bit (AMD64)]"
  },
  "orig_nbformat": 4,
  "vscode": {
   "interpreter": {
    "hash": "657912d04681f98d5bcb437ef2a924de9f7ecb6a53b4a243b7eea0cccc0bf9e8"
   }
  }
 },
 "nbformat": 4,
 "nbformat_minor": 2
}
