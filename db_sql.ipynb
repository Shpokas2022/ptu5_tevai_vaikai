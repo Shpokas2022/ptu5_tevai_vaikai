{
 "cells": [
  {
   "cell_type": "code",
<<<<<<< HEAD
   "execution_count": 2,
   "metadata": {},
   "outputs": [],
   "source": [
    "# KAd susijungti su duomenimis, reikia panaudoti konektoriu sqlite3\n",
    "import sqlite3\n"
=======
   "execution_count": 1,
   "metadata": {},
   "outputs": [],
   "source": [
    "import sqlite3"
>>>>>>> 91f25d7504bbd38e8322a9ceb58fcce029f6777e
   ]
  },
  {
   "cell_type": "code",
   "execution_count": 3,
   "metadata": {},
<<<<<<< HEAD
   "outputs": [
    {
     "ename": "OperationalError",
     "evalue": "table draugai already exists",
     "output_type": "error",
     "traceback": [
      "\u001b[1;31m---------------------------------------------------------------------------\u001b[0m",
      "\u001b[1;31mOperationalError\u001b[0m                          Traceback (most recent call last)",
      "\u001b[1;32mc:\\Users\\Lenovo\\CodeAcademy\\ptu5\\ptu5_intro_kursas\\db_sql.ipynb Cell 2\u001b[0m in \u001b[0;36m<cell line: 12>\u001b[1;34m()\u001b[0m\n\u001b[0;32m      <a href='vscode-notebook-cell:/c%3A/Users/Lenovo/CodeAcademy/ptu5/ptu5_intro_kursas/db_sql.ipynb#W1sZmlsZQ%3D%3D?line=1'>2</a>\u001b[0m cursor \u001b[39m=\u001b[39m connector\u001b[39m.\u001b[39mcursor()\n\u001b[0;32m      <a href='vscode-notebook-cell:/c%3A/Users/Lenovo/CodeAcademy/ptu5/ptu5_intro_kursas/db_sql.ipynb#W1sZmlsZQ%3D%3D?line=3'>4</a>\u001b[0m query \u001b[39m=\u001b[39m \u001b[39m'''\u001b[39m\n\u001b[0;32m      <a href='vscode-notebook-cell:/c%3A/Users/Lenovo/CodeAcademy/ptu5/ptu5_intro_kursas/db_sql.ipynb#W1sZmlsZQ%3D%3D?line=4'>5</a>\u001b[0m \u001b[39mCREATE TABLE draugai (\u001b[39m\n\u001b[0;32m      <a href='vscode-notebook-cell:/c%3A/Users/Lenovo/CodeAcademy/ptu5/ptu5_intro_kursas/db_sql.ipynb#W1sZmlsZQ%3D%3D?line=5'>6</a>\u001b[0m \u001b[39m    first_name VARCHAR(50),\u001b[39m\n\u001b[1;32m   (...)\u001b[0m\n\u001b[0;32m      <a href='vscode-notebook-cell:/c%3A/Users/Lenovo/CodeAcademy/ptu5/ptu5_intro_kursas/db_sql.ipynb#W1sZmlsZQ%3D%3D?line=8'>9</a>\u001b[0m \u001b[39m)\u001b[39m\n\u001b[0;32m     <a href='vscode-notebook-cell:/c%3A/Users/Lenovo/CodeAcademy/ptu5/ptu5_intro_kursas/db_sql.ipynb#W1sZmlsZQ%3D%3D?line=9'>10</a>\u001b[0m \u001b[39m'''\u001b[39m\n\u001b[1;32m---> <a href='vscode-notebook-cell:/c%3A/Users/Lenovo/CodeAcademy/ptu5/ptu5_intro_kursas/db_sql.ipynb#W1sZmlsZQ%3D%3D?line=11'>12</a>\u001b[0m cursor\u001b[39m.\u001b[39;49mexecute(query)\n\u001b[0;32m     <a href='vscode-notebook-cell:/c%3A/Users/Lenovo/CodeAcademy/ptu5/ptu5_intro_kursas/db_sql.ipynb#W1sZmlsZQ%3D%3D?line=12'>13</a>\u001b[0m connector\u001b[39m.\u001b[39mcommit()\n\u001b[0;32m     <a href='vscode-notebook-cell:/c%3A/Users/Lenovo/CodeAcademy/ptu5/ptu5_intro_kursas/db_sql.ipynb#W1sZmlsZQ%3D%3D?line=13'>14</a>\u001b[0m \u001b[39m# Butina uzdaryti duomenu baze!!!\u001b[39;00m\n",
      "\u001b[1;31mOperationalError\u001b[0m: table draugai already exists"
     ]
    }
   ],
   "source": [
    "connector = sqlite3.connect('db/zmone.db')\n",
    "cursor = connector.cursor()\n",
    "\n",
    "query = '''\n",
    "CREATE TABLE draugai (\n",
    "    first_name VARCHAR(50),\n",
    "    last_name VARCHAR(100),\n",
    "    email VARCHAR(255)\n",
    ")\n",
=======
   "outputs": [],
   "source": [
    "connector = sqlite3.connect('data/zmones.db')\n",
    "cursor = connector.cursor()\n",
    "\n",
    "query = '''\n",
    "CREATE TABLE IF NOT EXISTS draugai (\n",
    "    first_name VARCHAR(50),\n",
    "    last_name VARCHAR(100),\n",
    "    email VARCHAR(255)\n",
    ");\n",
>>>>>>> 91f25d7504bbd38e8322a9ceb58fcce029f6777e
    "'''\n",
    "\n",
    "cursor.execute(query)\n",
    "connector.commit()\n",
<<<<<<< HEAD
    "# Butina uzdaryti duomenu baze!!!\n",
    "connector.close()"
=======
    "connector.close()\n"
>>>>>>> 91f25d7504bbd38e8322a9ceb58fcce029f6777e
   ]
  },
  {
   "cell_type": "code",
<<<<<<< HEAD
   "execution_count": 30,
   "metadata": {},
   "outputs": [],
   "source": [
    "# Duomenu iterpimas\n",
=======
   "execution_count": 15,
   "metadata": {},
   "outputs": [],
   "source": [
    "# susijungiame su duomenų baze\n",
    "connector = sqlite3.connect(\"data/zmones.db\")"
   ]
  },
  {
   "cell_type": "code",
   "execution_count": 24,
   "metadata": {},
   "outputs": [],
   "source": [
    "# duomenų įterpimas\n",
>>>>>>> 91f25d7504bbd38e8322a9ceb58fcce029f6777e
    "query = '''\n",
    "INSERT INTO draugai\n",
    "(first_name, last_name, email)\n",
    "VALUES\n",
<<<<<<< HEAD
    "(\"Geras\", \"Smagulis\", \"smagulis@gmail.com\")\n",
    "'''\n",
    "# Susijungimas su duomenu baze\n",
    "connector = sqlite3.connect(\"db/zmone.db\")\n",
    "# Su with pats failas atidaro ir uzdaro faila\n",
    "with connector:\n",
    "    connector.cursor().execute(query)\n",
    "    connector.commit()"
=======
    "(\"Geras\", \"Programuotojas\", \"coder@gmail.com\")\n",
    "'''\n",
    "\n",
    "# context manager'is atidaro DB, atlieka reikiamus commit, ir uždaro\n",
    "with connector:\n",
    "    connector.cursor().execute(query)\n"
>>>>>>> 91f25d7504bbd38e8322a9ceb58fcce029f6777e
   ]
  },
  {
   "cell_type": "code",
<<<<<<< HEAD
   "execution_count": 31,
   "metadata": {},
   "outputs": [],
   "source": [
    "# contex manager is atidaro data, atlieka\n",
    "with connector:\n",
    "    connector.cursor().execute(query)"
   ]
  },
  {
   "cell_type": "code",
   "execution_count": 32,
=======
   "execution_count": 25,
>>>>>>> 91f25d7504bbd38e8322a9ceb58fcce029f6777e
   "metadata": {},
   "outputs": [
    {
     "name": "stdout",
     "output_type": "stream",
     "text": [
      "('Smagus', 'Gerulis', 'gerulis@gmail.com')\n",
<<<<<<< HEAD
      "('Geras', 'Smagulis', 'smagulis@gmail.com')\n"
=======
      "('Geras', 'Smagulis', 'smagulis@gmail.com')\n",
      "('Geras', 'Programuotojas', 'coder@gmail.com')\n"
>>>>>>> 91f25d7504bbd38e8322a9ceb58fcce029f6777e
     ]
    }
   ],
   "source": [
<<<<<<< HEAD
    "# Skaitome duomenu baze po viena\n",
    "with connector:\n",
    "    # kursoriu reikia pasiimti i kintamaji, nes kame nugula rezultato generatorius\n",
    "    cursor = connector.cursor()\n",
    "    cursor.execute(\"SELECT * FROM draugai;\")\n",
    "    print(cursor.fetchone())\n",
    "    print(cursor.fetchone())"
=======
    "# skaitom duomenų bazę (po vieną)\n",
    "with connector:\n",
    "    # kursorių reikia pasiimti į kintamąjį, nes jame nugula rezultato generatorius\n",
    "    cursor = connector.cursor()\n",
    "    cursor.execute(\"SELECT * FROM draugai;\")\n",
    "    print(cursor.fetchone())\n",
    "    print(cursor.fetchone())\n",
    "    print(cursor.fetchone())\n"
>>>>>>> 91f25d7504bbd38e8322a9ceb58fcce029f6777e
   ]
  },
  {
   "cell_type": "code",
<<<<<<< HEAD
   "execution_count": 33,
=======
   "execution_count": 28,
>>>>>>> 91f25d7504bbd38e8322a9ceb58fcce029f6777e
   "metadata": {},
   "outputs": [
    {
     "name": "stdout",
     "output_type": "stream",
     "text": [
<<<<<<< HEAD
      "[('Smagus', 'Gerulis', 'gerulis@gmail.com'), ('Geras', 'Smagulis', 'smagulis@gmail.com'), ('Geras', 'Smagulis', 'smagulis@gmail.com')]\n"
=======
      "[('Smagus', 'Gerulis', 'gerulis@gmail.com'),\n",
      " ('Geras', 'Smagulis', 'smagulis@gmail.com'),\n",
      " ('Žalias', 'Programuotojas', 'coder@gmail.com')]\n"
>>>>>>> 91f25d7504bbd38e8322a9ceb58fcce029f6777e
     ]
    }
   ],
   "source": [
<<<<<<< HEAD
    "# Nuskaitome visus duomenis i sarasa su fetchall()\n",
    "with connector:\n",
    "    cursor = connector.cursor()\n",
    "    cursor.execute(\"SELECT * FROM draugai;\")\n",
    "    print(cursor.fetchall())"
=======
    "from pprint import pprint\n",
    "# nuskaitome visus duomenis į sarašą su .fetchall()\n",
    "with connector:\n",
    "    cursor = connector.cursor()\n",
    "    cursor.execute(\"SELECT * FROM draugai;\")\n",
    "    pprint(cursor.fetchall())\n"
>>>>>>> 91f25d7504bbd38e8322a9ceb58fcce029f6777e
   ]
  },
  {
   "cell_type": "code",
<<<<<<< HEAD
   "execution_count": 29,
=======
   "execution_count": 16,
>>>>>>> 91f25d7504bbd38e8322a9ceb58fcce029f6777e
   "metadata": {},
   "outputs": [
    {
     "name": "stdout",
     "output_type": "stream",
     "text": [
      "[('Smagus', 'Gerulis', 'gerulis@gmail.com')]\n"
     ]
    }
   ],
   "source": [
<<<<<<< HEAD
    "# Taisome situacija\n",
=======
    "# taisom situaciją\n",
>>>>>>> 91f25d7504bbd38e8322a9ceb58fcce029f6777e
    "with connector:\n",
    "    cursor = connector.cursor()\n",
    "    cursor.execute(\"DELETE FROM draugai WHERE rowid > 1;\")\n",
    "    cursor.execute(\"SELECT * FROM draugai;\")\n",
<<<<<<< HEAD
    "    print(cursor.fetchall())"
=======
    "    print(cursor.fetchall())\n"
>>>>>>> 91f25d7504bbd38e8322a9ceb58fcce029f6777e
   ]
  },
  {
   "cell_type": "code",
<<<<<<< HEAD
   "execution_count": 36,
=======
   "execution_count": 27,
>>>>>>> 91f25d7504bbd38e8322a9ceb58fcce029f6777e
   "metadata": {},
   "outputs": [
    {
     "name": "stdout",
     "output_type": "stream",
     "text": [
<<<<<<< HEAD
      "[('Smagus', 'Gerulis', 'gerulis@gmail.com'), ('Geras', 'Smagulis', 'smagulis@gmail.com'), ('Geras', 'Smagulis', 'smagulis@gmail.com')]\n"
=======
      "[('Smagus', 'Gerulis', 'gerulis@gmail.com'), ('Geras', 'Smagulis', 'smagulis@gmail.com'), ('Žalias', 'Programuotojas', 'coder@gmail.com')]\n"
>>>>>>> 91f25d7504bbd38e8322a9ceb58fcce029f6777e
     ]
    }
   ],
   "source": [
<<<<<<< HEAD
    "with connector:\n",
    "    cursor = connector.cursor()\n",
    "    cursor.execute('UPDATE draugai SET first_name=\"Zalias\" WHERE last_name=\"Programuotojas\"')\n",
=======
    "# įrašų atnaujinimas\n",
    "with connector:\n",
    "    cursor = connector.cursor()\n",
    "    cursor.execute('UPDATE draugai SET first_name=\"Žalias\" WHERE last_name=\"Programuotojas\"')\n",
>>>>>>> 91f25d7504bbd38e8322a9ceb58fcce029f6777e
    "    cursor.execute('SELECT * FROM draugai;')\n",
    "    print(cursor.fetchall())\n"
   ]
  },
  {
   "cell_type": "code",
<<<<<<< HEAD
   "execution_count": 4,
=======
   "execution_count": 29,
>>>>>>> 91f25d7504bbd38e8322a9ceb58fcce029f6777e
   "metadata": {},
   "outputs": [],
   "source": [
    "nauji_draugai = [\n",
<<<<<<< HEAD
    "    ('Naujas', 'Draugelis' , 'naujas@draugelis.lt'),\n",
    "    ('Grazi', 'Mergaite', 'grazuole@gmail.com'),\n",
    "    ('Senas', 'Diedulis', 'diedux@yahoo.com'),\n",
=======
    "    ('Naujas', 'Draugelis', 'naujas@draugelis.lt'),\n",
    "    ('Grazi', 'Mergaite', 'grazuole@gmail.com'),\n",
    "    ('Senas', 'Diedulis', 'diedux@yahoo.coom'),\n",
>>>>>>> 91f25d7504bbd38e8322a9ceb58fcce029f6777e
    "]\n",
    "\n",
    "with connector:\n",
    "    cursor = connector.cursor()\n",
<<<<<<< HEAD
    "    cursor.executemany('INSERT INTO draugai VALUES (?,?,?)', (nauji_draugai))"
=======
    "    cursor.executemany('INSERT INTO draugai VALUES (?, ?, ?)', (nauji_draugai))\n"
>>>>>>> 91f25d7504bbd38e8322a9ceb58fcce029f6777e
   ]
  },
  {
   "cell_type": "code",
<<<<<<< HEAD
   "execution_count": 12,
=======
   "execution_count": 32,
>>>>>>> 91f25d7504bbd38e8322a9ceb58fcce029f6777e
   "metadata": {},
   "outputs": [
    {
     "name": "stdout",
     "output_type": "stream",
     "text": [
<<<<<<< HEAD
      " - (1, 'Smagus', 'Gerulis', 'gerulis@gmail.com')\n",
      " - (3, 'Geras', 'Smagulis', 'smagulis@gmail.com')\n",
      " - (5, 'Rainys', 'Zalmargis', 'rz.@gmail.com')\n",
      " - (7, '\"', 'GHJLGJ', 'khkh@gmail.com')\n"
=======
      "- (1, 'Smagus', 'Gerulis', 'gerulis@gmail.com')\n",
      "- (3, 'Žalias', 'Programuotojas', 'coder@gmail.com')\n",
      "- (5, 'Grybas', 'Fungauskas', 'grybas@fungus.net')\n",
      "- (7, '\"', 'Kabutinis', 'kabutinis@geras.lt')\n"
>>>>>>> 91f25d7504bbd38e8322a9ceb58fcce029f6777e
     ]
    }
   ],
   "source": [
    "ids = (1, 3, 5, 7)\n",
    "\n",
    "with connector:\n",
    "    cursor = connector.cursor()\n",
    "    cursor.execute('SELECT rowid, * FROM draugai WHERE rowid IN (?, ?, ?, ?)', ids)\n",
    "    draugai = cursor.fetchall()\n",
    "    for draugas in draugai:\n",
<<<<<<< HEAD
    "        print(f' - {draugas}')"
=======
    "        print(f'- {draugas}')\n"
>>>>>>> 91f25d7504bbd38e8322a9ceb58fcce029f6777e
   ]
  }
 ],
 "metadata": {
  "kernelspec": {
<<<<<<< HEAD
   "display_name": "Python 3.10.6 64-bit",
=======
   "display_name": "Python 3.8.10 ('venv': venv)",
>>>>>>> 91f25d7504bbd38e8322a9ceb58fcce029f6777e
   "language": "python",
   "name": "python3"
  },
  "language_info": {
   "codemirror_mode": {
    "name": "ipython",
    "version": 3
   },
   "file_extension": ".py",
   "mimetype": "text/x-python",
   "name": "python",
   "nbconvert_exporter": "python",
   "pygments_lexer": "ipython3",
<<<<<<< HEAD
   "version": "3.10.6 (tags/v3.10.6:9c7b4bd, Aug  1 2022, 21:53:49) [MSC v.1932 64 bit (AMD64)]"
=======
   "version": "3.8.10"
>>>>>>> 91f25d7504bbd38e8322a9ceb58fcce029f6777e
  },
  "orig_nbformat": 4,
  "vscode": {
   "interpreter": {
<<<<<<< HEAD
    "hash": "8c3d4d9970fc5c09c50d9318a9c7fbf4d0159e4b28833276f5678ee22bded273"
=======
    "hash": "a2cddde078377394000f0627eefad8bfa1b68388b6babd3050c29259627b7066"
>>>>>>> 91f25d7504bbd38e8322a9ceb58fcce029f6777e
   }
  }
 },
 "nbformat": 4,
 "nbformat_minor": 2
}
