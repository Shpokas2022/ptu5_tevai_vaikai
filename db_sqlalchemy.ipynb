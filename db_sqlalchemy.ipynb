{
 "cells": [
  {
   "cell_type": "code",
   "execution_count": 3,
   "metadata": {},
   "outputs": [],
   "source": [
    "import datetime\n",
    "from sqlalchemy import Column, Integer, String, Float, DateTime, create_engine\n",
    "from sqlalchemy.ext.declarative import declarative_base\n",
    "\n",
    "engine = create_engine('sqlite:///db/projektai.db')\n",
    "Base = declarative_base()\n"
   ]
  },
  {
   "cell_type": "markdown",
   "metadata": {},
   "source": [
    "# LENTELES SUKURIMAS"
   ]
  },
  {
   "cell_type": "code",
   "execution_count": 6,
   "metadata": {},
   "outputs": [],
   "source": [
    "class Projektas(Base):\n",
    "    __tablename__ = 'projektas'\n",
    "    id = Column(Integer, primary_key=True)\n",
    "    name = Column(\"pavadinimas\", String)\n",
    "    price = Column(\"kainas\", Float)\n",
    "    created_date = Column(\"sukurta\", DateTime, default=datetime.datetime.utcnow)\n",
    "\n",
    "    def __init__(self, name, price):\n",
    "        self.name = name\n",
    "        self.price = price\n",
    "\n",
    "    def __repr__(self) -> str:\n",
    "        return f\"({self.id}, {self.name}, {self.created_date})\"\n"
   ]
  },
  {
   "cell_type": "code",
   "execution_count": 7,
   "metadata": {},
   "outputs": [],
   "source": [
    "Base.metadata.create_all(engine)"
   ]
  },
  {
   "cell_type": "code",
   "execution_count": 8,
   "metadata": {},
   "outputs": [],
   "source": [
    "from sqlalchemy.orm import sessionmaker\n",
    "# Session = sessionmaker(bind=engine)\n",
    "# session = Session()\n",
    "# Dar tą patį galima užrašyti ir taip:\n",
    "session = sessionmaker(bind=engine)()"
   ]
  },
  {
   "cell_type": "markdown",
   "metadata": {},
   "source": [
    "# CRUDE - create read update delete. "
   ]
  },
  {
   "cell_type": "markdown",
   "metadata": {},
   "source": [
    "Standartinis kiekvienos lenteles veiksmu paketas"
   ]
  },
  {
   "cell_type": "code",
   "execution_count": 9,
   "metadata": {},
   "outputs": [],
   "source": [
    "# Create\n",
    "projektas1 = Projektas(\"Pirmas projektas\", 20000)\n",
    "# į session-ą įdedame savo projektas1:\n",
    "session.add(projektas1)\n",
    "# session.commit atliks įterpimo procedūrą:\n",
    "session.commit()\n"
   ]
  },
  {
   "cell_type": "code",
   "execution_count": 10,
   "metadata": {},
   "outputs": [],
   "source": [
    "projektas2 = Projektas(\"Antras projektas\", 55000)\n",
    "session.add(projektas2)\n",
    "session.commit()"
   ]
  },
  {
   "cell_type": "code",
   "execution_count": 11,
   "metadata": {},
   "outputs": [
    {
     "data": {
      "text/plain": [
       "20000.0"
      ]
     },
     "execution_count": 11,
     "metadata": {},
     "output_type": "execute_result"
    }
   ],
   "source": [
    "# read one Projektų nuskaitymas iš duomenų bazės\n",
    "projektas = session.query(Projektas).get(1)\n",
    "projektas.price\n",
    "#type(projektas.price)\n"
   ]
  },
  {
   "cell_type": "code",
   "execution_count": 12,
   "metadata": {},
   "outputs": [
    {
     "data": {
      "text/plain": [
       "[(1, Pirmas projektas, 2022-10-15 07:31:00.312290),\n",
       " (2, Antras projektas, 2022-10-15 07:31:03.345708),\n",
       " (3, Pirmas projektas, 2022-10-15 17:47:43.824175),\n",
       " (4, Antras projektas, 2022-10-15 17:47:46.633962)]"
      ]
     },
     "execution_count": 12,
     "metadata": {},
     "output_type": "execute_result"
    }
   ],
   "source": [
    "#Read many (CRUDE)\n",
    "projektai = session.query(Projektas).all()\n",
    "projektai"
   ]
  },
  {
   "cell_type": "markdown",
   "metadata": {},
   "source": [
    "#Duomenų paieška pagal salygą"
   ]
  },
  {
   "cell_type": "code",
   "execution_count": 13,
   "metadata": {},
   "outputs": [
    {
     "data": {
      "text/plain": [
       "[(1, Pirmas projektas, 2022-10-15 07:31:00.312290),\n",
       " (2, Antras projektas, 2022-10-15 07:31:03.345708),\n",
       " (3, Pirmas projektas, 2022-10-15 17:47:43.824175),\n",
       " (4, Antras projektas, 2022-10-15 17:47:46.633962)]"
      ]
     },
     "execution_count": 13,
     "metadata": {},
     "output_type": "execute_result"
    }
   ],
   "source": [
    "search = session.query(Projektas).filter(Projektas.name.ilike(\"%as\")).all()\n",
    "# ilike() - key not sencetive search, like() - key sencetive search\n",
    "search"
   ]
  },
  {
   "cell_type": "code",
   "execution_count": 14,
   "metadata": {},
   "outputs": [
    {
     "data": {
      "text/plain": [
       "[(2, Antras projektas, 2022-10-15 07:31:03.345708),\n",
       " (4, Antras projektas, 2022-10-15 17:47:46.633962)]"
      ]
     },
     "execution_count": 14,
     "metadata": {},
     "output_type": "execute_result"
    }
   ],
   "source": [
    "search2 = session.query(Projektas).filter(Projektas.price > 25000).all()\n",
    "search2"
   ]
  },
  {
   "cell_type": "markdown",
   "metadata": {},
   "source": [
    "# Keli parametraiu filtre sujungiami AND sąlyga"
   ]
  },
  {
   "cell_type": "code",
   "execution_count": 16,
   "metadata": {},
   "outputs": [
    {
     "data": {
      "text/plain": [
       "[(2, Antras projektas, 2022-10-15 07:31:03.345708),\n",
       " (4, Antras projektas, 2022-10-15 17:47:46.633962)]"
      ]
     },
     "execution_count": 16,
     "metadata": {},
     "output_type": "execute_result"
    }
   ],
   "source": [
    "search3 = session.query(Projektas).filter(\n",
    "    Projektas.price > 20000,\n",
    "    Projektas.name.ilike(\"Antras%\"),\n",
    ").all()\n",
    "search3"
   ]
  },
  {
   "cell_type": "markdown",
   "metadata": {},
   "source": [
    "# Update (crud)"
   ]
  },
  {
   "cell_type": "code",
   "execution_count": 18,
   "metadata": {},
   "outputs": [
    {
     "data": {
      "text/plain": [
       "[(2, Antras projektas, 2022-10-15 07:31:03.345708),\n",
       " (4, Antras projektas, 2022-10-15 17:47:46.633962)]"
      ]
     },
     "execution_count": 18,
     "metadata": {},
     "output_type": "execute_result"
    }
   ],
   "source": [
    "atnaujinamas_projektas = session.query(Projektas).get(2)\n",
    "atnaujinamas_projektas.price = 51500\n",
    "session.commit()\n",
    "search2"
   ]
  },
  {
   "cell_type": "code",
   "execution_count": 23,
   "metadata": {},
   "outputs": [],
   "source": [
    "# DELETE\n",
    "trinamas = session.query(Projektas).filter(Projektas.id == 2).one()\n",
    "trinamas\n",
    "session.commit()"
   ]
  }
 ],
 "metadata": {
  "kernelspec": {
   "display_name": "venv",
   "language": "python",
   "name": "python3"
  },
  "language_info": {
   "codemirror_mode": {
    "name": "ipython",
    "version": 3
   },
   "file_extension": ".py",
   "mimetype": "text/x-python",
   "name": "python",
   "nbconvert_exporter": "python",
   "pygments_lexer": "ipython3",
   "version": "3.10.6 (tags/v3.10.6:9c7b4bd, Aug  1 2022, 21:53:49) [MSC v.1932 64 bit (AMD64)]"
  },
  "orig_nbformat": 4,
  "vscode": {
   "interpreter": {
    "hash": "cdd9d9395a9efe4fecd14b03701bae00af48e4b838373f69d7233930cbd6e097"
   }
  }
 },
 "nbformat": 4,
 "nbformat_minor": 2
}
