{
 "cells": [
  {
   "cell_type": "code",
   "execution_count": 1,
   "metadata": {},
   "outputs": [],
   "source": [
    "from sqlalchemy.orm import sessionmaker\n",
    "from models_m2m import engine, Tevas, Vaikas\n",
    "from pprint import pprint\n",
    "\n",
    "session = sessionmaker(engine)()"
   ]
  },
  {
   "cell_type": "code",
   "execution_count": 2,
   "metadata": {},
   "outputs": [],
   "source": [
    "tevas = Tevas(vardas=\"Darius\", pavarde=\"Vasionis\")\n",
    "mama = Tevas(vardas=\"Vita\", pavarde=\"Vasioniene\")\n",
    "lukas = Vaikas(vardas=\"Lukas\", pavarde=\"Vasionis\")\n",
    "ieva = Vaikas(vardas=\"Ieva\", pavarde=\"Vasionyte\")\n",
    "\n",
    "tevas.vaikai.append(lukas)\n",
    "mama.vaikai.append(ieva)\n",
    "tevas.vaikai.append(lukas)\n",
    "\n",
    "session.add(tevas)\n",
    "session.add(mama)\n",
    "session.commit()"
   ]
  },
  {
   "cell_type": "code",
   "execution_count": 4,
   "metadata": {},
   "outputs": [
    {
     "name": "stdout",
     "output_type": "stream",
     "text": [
      "[(1, Darius, Vasionis), (2, Vita, Vasioniene)]\n",
      "[(1, Lukas, Vasionis), (2, Ieva, Vasionyte)]\n"
     ]
    }
   ],
   "source": [
    "tevai = session.query(Tevas).all()\n",
    "pprint(tevai)\n",
    "vaikai = session.query(Vaikas).all()\n",
    "pprint(vaikai)"
   ]
  },
  {
   "cell_type": "code",
   "execution_count": 5,
   "metadata": {},
   "outputs": [
    {
     "name": "stdout",
     "output_type": "stream",
     "text": [
      "(1, Darius, Vasionis)\n",
      "- (1, Lukas, Vasionis)\n",
      "(2, Vita, Vasioniene)\n",
      "- (2, Ieva, Vasionyte)\n"
     ]
    }
   ],
   "source": [
    "for tevas in tevai:\n",
    "    print(tevas)\n",
    "    for vaikas in tevas.vaikai:\n",
    "        print(\"-\", vaikas)"
   ]
  }
 ],
 "metadata": {
  "kernelspec": {
   "display_name": "venv",
   "language": "python",
   "name": "python3"
  },
  "language_info": {
   "codemirror_mode": {
    "name": "ipython",
    "version": 3
   },
   "file_extension": ".py",
   "mimetype": "text/x-python",
   "name": "python",
   "nbconvert_exporter": "python",
   "pygments_lexer": "ipython3",
   "version": "3.10.6"
  },
  "orig_nbformat": 4,
  "vscode": {
   "interpreter": {
    "hash": "657912d04681f98d5bcb437ef2a924de9f7ecb6a53b4a243b7eea0cccc0bf9e8"
   }
  }
 },
 "nbformat": 4,
 "nbformat_minor": 2
}
