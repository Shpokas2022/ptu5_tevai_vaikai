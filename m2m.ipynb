{
 "cells": [
  {
   "cell_type": "markdown",
   "metadata": {},
   "source": [
    "# Many to Many"
   ]
  },
  {
   "cell_type": "code",
   "execution_count": 2,
   "metadata": {},
   "outputs": [],
   "source": [
    "from sqlalchemy.orm import sessionmaker\n",
    "from models_m2m import engine, Tevas, Vaikas\n",
    "from pprint import pprint\n",
    "\n",
    "session = sessionmaker(engine)()"
   ]
  },
  {
   "cell_type": "code",
   "execution_count": 2,
   "metadata": {},
   "outputs": [],
   "source": [
    "tevas = Tevas(vardas=\"Darius\", pavarde=\"Vasionis\")\n",
    "mama = Tevas(vardas=\"Vita\", pavarde=\"Vasioniene\")\n",
    "lukas = Vaikas(vardas=\"Lukas\", pavarde=\"Vasionis\")\n",
    "ieva = Vaikas(vardas=\"Ieva\", pavarde=\"Vasionyte\")\n",
    "\n",
    "tevas.vaikai.append(lukas)\n",
    "mama.vaikai.append(ieva)\n",
    "tevas.vaikai.append(lukas)\n",
    "\n",
    "session.add(tevas)\n",
    "session.add(mama)\n",
    "session.commit()"
   ]
  },
  {
   "cell_type": "code",
   "execution_count": 6,
   "metadata": {},
   "outputs": [
    {
     "name": "stdout",
     "output_type": "stream",
     "text": [
      "[(1, Darius, Vasionis), (2, Vita, Vasioniene)]\n",
      "[(1, Lukas, Vasionis), (2, Ieva, Vasionyte)]\n"
     ]
    }
   ],
   "source": [
    "tevai = session.query(Tevas).all()\n",
    "pprint(tevai)\n",
    "vaikai = session.query(Vaikas).all()\n",
    "pprint(vaikai)"
   ]
  },
  {
   "cell_type": "code",
   "execution_count": 7,
   "metadata": {},
   "outputs": [
    {
     "name": "stdout",
     "output_type": "stream",
     "text": [
      "(1, Darius, Vasionis)\n",
      "- (1, Lukas, Vasionis)\n",
      "(2, Vita, Vasioniene)\n",
      "- (2, Ieva, Vasionyte)\n"
     ]
    }
   ],
   "source": [
    "for tevas in tevai:\n",
    "    print(tevas)\n",
    "    for vaikas in tevas.vaikai:\n",
    "        print(\"-\", vaikas)"
   ]
  },
  {
   "cell_type": "code",
   "execution_count": 8,
   "metadata": {},
   "outputs": [],
   "source": [
    "mama = session.query(Tevas).get(1)\n",
    "mama = session.query(Tevas).get(2)\n",
    "lukas = session.query(Vaikas).get(1)\n",
    "ieva = session.query(Vaikas).get(2)\n"
   ]
  },
  {
   "cell_type": "code",
   "execution_count": 9,
   "metadata": {},
   "outputs": [],
   "source": [
    "lukas.tevai.append(tevas)\n",
    "ieva.tevai.append(mama)\n",
    "session.commit()"
   ]
  },
  {
   "cell_type": "code",
   "execution_count": 10,
   "metadata": {},
   "outputs": [
    {
     "name": "stdout",
     "output_type": "stream",
     "text": [
      "(1, Darius, Vasionis)\n",
      "- (1, Lukas, Vasionis)\n",
      "(2, Vita, Vasioniene)\n",
      "- (2, Ieva, Vasionyte)\n",
      "- (1, Lukas, Vasionis)\n"
     ]
    }
   ],
   "source": [
    "for tevas in tevai:\n",
    "    print(tevas)\n",
    "    for vaikas in tevas.vaikai:\n",
    "        print(\"-\", vaikas)"
   ]
  },
  {
   "cell_type": "code",
   "execution_count": 11,
   "metadata": {},
   "outputs": [],
   "source": [
    "# Iraso pasalinimas\n",
    "mama.vaikai.remove(ieva)"
   ]
  },
  {
   "cell_type": "code",
   "execution_count": 12,
   "metadata": {},
   "outputs": [],
   "source": [
    "session.commit()"
   ]
  }
 ],
 "metadata": {
  "kernelspec": {
   "display_name": "venv",
   "language": "python",
   "name": "python3"
  },
  "language_info": {
   "codemirror_mode": {
    "name": "ipython",
    "version": 3
   },
   "file_extension": ".py",
   "mimetype": "text/x-python",
   "name": "python",
   "nbconvert_exporter": "python",
   "pygments_lexer": "ipython3",
   "version": "3.10.6 (tags/v3.10.6:9c7b4bd, Aug  1 2022, 21:53:49) [MSC v.1932 64 bit (AMD64)]"
  },
  "orig_nbformat": 4,
  "vscode": {
   "interpreter": {
    "hash": "657912d04681f98d5bcb437ef2a924de9f7ecb6a53b4a243b7eea0cccc0bf9e8"
   }
  }
 },
 "nbformat": 4,
 "nbformat_minor": 2
}
